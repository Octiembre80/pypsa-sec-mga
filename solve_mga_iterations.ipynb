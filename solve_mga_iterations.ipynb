{
 "cells": [
  {
   "cell_type": "markdown",
   "metadata": {},
   "source": [
    "# Apply Modelling to Generate Alternatives (Cartesian Product Algorithm) to a PyPSA-Sec Model Instance of Germany"
   ]
  },
  {
   "cell_type": "code",
   "execution_count": null,
   "metadata": {},
   "outputs": [],
   "source": [
    "import pypsa\n",
    "import pandas as pd\n",
    "import itertools\n",
    "import pyomo.environ as pe\n",
    "\n",
    "from prepare_model_and_mga import (make_options, \n",
    "                                   extra_functionality,\n",
    "                                   prepare_costs, \n",
    "                                   annuity,\n",
    "                                   make_slacks_mga_weights)\n",
    "from summary import add_summary_row\n",
    "\n",
    "idx = pd.IndexSlice\n",
    "\n",
    "pypsa.Network.lopf_prepare_solver = pypsa.opf.network_lopf_prepare_solver\n",
    "pypsa.Network.lopf_solve_wo_build = pypsa.opf.network_lopf_solve\n",
    "\n",
    "options = make_options()"
   ]
  },
  {
   "cell_type": "code",
   "execution_count": null,
   "metadata": {},
   "outputs": [],
   "source": [
    "es = pypsa.Network()\n",
    "\n",
    "es.import_from_hdf5(\"all_flex-central_0_DE.h5\")"
   ]
  },
  {
   "cell_type": "code",
   "execution_count": null,
   "metadata": {},
   "outputs": [],
   "source": [
    "costs = prepare_costs(file_name = \"pypsa-eur-sec-30/data/costs/costs.csv\", number_years=1, usd_to_eur=1/1.2, costs_year=2030)"
   ]
  },
  {
   "cell_type": "markdown",
   "metadata": {},
   "source": [
    "# Add technologies"
   ]
  },
  {
   "cell_type": "code",
   "execution_count": null,
   "metadata": {},
   "outputs": [],
   "source": [
    "es.add(\"Generator\",\n",
    "         \"DE solar-rooftop\",\n",
    "         bus=\"DE\",\n",
    "         p_nom_extendable=True,\n",
    "         carrier=\"solar\",\n",
    "         p_nom_max=es.generators.loc[\"DE solar\",\"p_nom_max\"],\n",
    "         capital_cost = costs.at[idx['solar-rooftop', 2030],'fixed'],\n",
    "         p_max_pu=es.generators_t[\"p_max_pu\"].loc[:, \"DE solar\"],\n",
    "         marginal_cost=costs.at[idx['solar', 2030],'VOM'])\n",
    "\n",
    "es.add(\"Generator\", \"DE load shedding\",\n",
    "          bus=\"DE\",\n",
    "          p_nom_extendable=True,\n",
    "          marginal_cost=1000.)"
   ]
  },
  {
   "cell_type": "markdown",
   "metadata": {},
   "source": [
    "# Change parameters"
   ]
  },
  {
   "cell_type": "code",
   "execution_count": null,
   "metadata": {},
   "outputs": [],
   "source": [
    "es.global_constraints.at[\"co2_limit\",\"constant\"] = options[\"co2_limit\"]\n",
    "\n",
    "es.stores.at[\"DE gas Store\", \"marginal_cost\"] = 100. # renewable gas import, source: ewi Energy Research & Scenarios gGmbH, “Dena-Leitstudie Integrierte Energiewende,” 2018.\n",
    "\n",
    "# power grid expansion costs (delta to expansion costs of other technologies)\n",
    "es.generators.at[\"DE offwind\", \"capital_cost\"] += \\\n",
    "        annuity(costs.loc[idx[\"offwind\", 2030], \"lifetime\"],costs.loc[idx[\"offwind\", 2030], \"discount rate\"]) * 900000 \n",
    "\n",
    "# only 150000 MW of low-cost utility-scale plants; 50:50 for utility:rooftop PV\n",
    "es.generators.at[\"DE solar\", \"p_nom_max\"] = 300000. \n",
    "\n",
    "# relax p_nom_max for onshore wind\n",
    "es.generators.at[\"DE0 onwind\", \"p_nom_max\"] *= 1.1\n",
    "es.generators.at[\"DE1 onwind\", \"p_nom_max\"] *= 1.1\n",
    "es.generators.at[\"DE2 onwind\", \"p_nom_max\"] *= 1.1\n",
    "\n",
    "# reduce heat demand for buildings by factor of 0.65 due too buildings retrofitting. This value is 15 percent below (better) than the extrapolation of the trend in the last 25 years. Ausfelder et al., “Sektorkopplung: Untersuchungen und Überlegungen zur Entwicklung eines integrierten Energiesystems,” acatech, Fraunhofer ISE, Berlin, 2017.\n",
    " \n",
    "es.loads_t.p_set[\"DE heat\"] *= 0.65\n",
    "es.loads_t.p_set[\"DE urban heat\"] *= 0.65"
   ]
  },
  {
   "cell_type": "markdown",
   "metadata": {},
   "source": [
    "# Initial optimization run"
   ]
  },
  {
   "cell_type": "code",
   "execution_count": null,
   "metadata": {},
   "outputs": [],
   "source": [
    "es.consistency_check()"
   ]
  },
  {
   "cell_type": "code",
   "execution_count": null,
   "metadata": {},
   "outputs": [],
   "source": [
    "es.loads_t.p_set.sum()*3"
   ]
  },
  {
   "cell_type": "code",
   "execution_count": null,
   "metadata": {},
   "outputs": [],
   "source": [
    "87121109917 /((456+458+162)*1e6)"
   ]
  },
  {
   "cell_type": "code",
   "execution_count": null,
   "metadata": {},
   "outputs": [],
   "source": [
    "skip_pre=True\n",
    "\n",
    "es.lopf(solver_name=options['solver']['name'], solver_options=options['solver']['options'], skip_pre=skip_pre,\n",
    "          extra_functionality=extra_functionality)"
   ]
  },
  {
   "cell_type": "markdown",
   "metadata": {},
   "source": [
    "# Prepare MGA"
   ]
  },
  {
   "cell_type": "code",
   "execution_count": null,
   "metadata": {},
   "outputs": [],
   "source": [
    "mga_n = 8\n",
    "slacks_mga_weights_df = make_slacks_mga_weights(mga_n = mga_n)"
   ]
  },
  {
   "cell_type": "code",
   "execution_count": null,
   "metadata": {},
   "outputs": [],
   "source": [
    "slacks_mga_weights_df.tail()"
   ]
  },
  {
   "cell_type": "code",
   "execution_count": null,
   "metadata": {},
   "outputs": [],
   "source": [
    "es.apply_mga_structure(mga_n=mga_n, slacks_mga_weights_df = slacks_mga_weights_df)"
   ]
  },
  {
   "cell_type": "code",
   "execution_count": null,
   "metadata": {},
   "outputs": [],
   "source": []
  },
  {
   "cell_type": "code",
   "execution_count": null,
   "metadata": {},
   "outputs": [],
   "source": [
    "summary = pd.concat([slacks_mga_weights_df, \n",
    "          pd.DataFrame(columns=es.generators.p_nom_opt.index), \n",
    "          pd.DataFrame(columns=es.links.p_nom_opt.index), \n",
    "          pd.DataFrame(columns=es.storage_units.p_nom_opt.index), \n",
    "          pd.DataFrame(columns=es.stores.e_nom_opt.index), \n",
    "          pd.DataFrame(columns=\"p \" + es.generators_t.p.columns), \n",
    "          pd.DataFrame(columns=\"p0 \" + es.links_t.p0.columns), \n",
    "          pd.DataFrame(columns=\"p1 \" + es.links_t.p1.columns), \n",
    "          pd.DataFrame(columns=\"p0 \" + es.storage_units_t.p.columns), \n",
    "          pd.DataFrame(columns=\"p1 \" + es.storage_units_t.p.columns), \n",
    "          pd.DataFrame(columns=\"p0 \" + es.stores_t.p.columns), \n",
    "          pd.DataFrame(columns=\"p1 \" + es.stores_t.p.columns)\n",
    "          ],axis=1)\n",
    "\n",
    "# Place cost optimal scenario at the end of the result summary df\n",
    "summary = add_summary_row(df=summary, row_index=len(slacks_mga_weights_df), es=es)\n",
    "es.export_to_hdf5(path = \"results_complete_mga_iterations/iteration_\"+str(len(slacks_mga_weights_df))+\".h5\")"
   ]
  },
  {
   "cell_type": "code",
   "execution_count": null,
   "metadata": {},
   "outputs": [],
   "source": [
    "hasattr(es.model, \"mga_function_expr\")"
   ]
  },
  {
   "cell_type": "markdown",
   "metadata": {},
   "source": [
    "# Start mga iterations"
   ]
  },
  {
   "cell_type": "code",
   "execution_count": null,
   "metadata": {},
   "outputs": [],
   "source": [
    "es.lopf_prepare_solver(solver_name=options['solver']['name'])\n"
   ]
  },
  {
   "cell_type": "markdown",
   "metadata": {},
   "source": [
    "### Warning: The next code block will take a long time."
   ]
  },
  {
   "cell_type": "code",
   "execution_count": null,
   "metadata": {
    "scrolled": true
   },
   "outputs": [],
   "source": [
    "def solve_mga_iterations(mga_n, slacks_mga_weights_df, options, summary_dataframe):\n",
    "    if not hasattr(es.model, \"mga_function_expr\"):\n",
    "        raise TypeError(\"MGA structure has not been applied (.apply_mga_structure())\")\n",
    "    failed_iterations_i = [] # Save the iterations for which the solver can not find a solution. List should be empty.\n",
    "    for i, row in slacks_mga_weights_df.iterrows():\n",
    "        mga_weights_i = list(row.loc[[\"m\"+str(_) for _ in range(mga_n)]])\n",
    "\n",
    "        es.model.slack = row.loc[\"slack\"]\n",
    "        for j, w in enumerate(mga_weights_i):\n",
    "            es.model.mga_weight[j] = w\n",
    "\n",
    "        if options[\"solver\"][\"name\"]==\"gurobi_persistent\":\n",
    "            es.opt.set_objective(es.model.objective) # Update the objective of the persistent solver instance\n",
    "\n",
    "            es.opt.remove_constraint(es.model.cost_budget) # Update the cost budget of the persistent solver instance\n",
    "            es.opt.add_constraint(es.model.cost_budget) # Update the cost budget of the persistent solver instance\n",
    "\n",
    "        try:\n",
    "            es.lopf_solve_wo_build(solver_options=options['solver']['options'])\n",
    "\n",
    "            es.export_to_hdf5(path = \"results_complete_mga_iterations/iteration_\"+str(i)+\".h5\")\n",
    "\n",
    "            summary_dataframe = add_summary_row(df=summary, row_index=i, es=es) # TODO: make summary subsequent to all mga iterations.\n",
    "            \n",
    "        except ValueError:\n",
    "            failed_iterations_i.append(i)\n",
    "        \n",
    "    return failed_iterations_i\n",
    "\n",
    "es.solve_mga_iterations = solve_mga_iterations\n",
    "failed_iterations_i = es.solve_mga_iterations(mga_n=mga_n, slacks_mga_weights_df=slacks_mga_weights_df, options=options, summary_dataframe=summary)"
   ]
  },
  {
   "cell_type": "code",
   "execution_count": null,
   "metadata": {},
   "outputs": [],
   "source": [
    "failed_iterations_i"
   ]
  },
  {
   "cell_type": "markdown",
   "metadata": {},
   "source": [
    "# Save tidy result data"
   ]
  },
  {
   "cell_type": "code",
   "execution_count": null,
   "metadata": {},
   "outputs": [],
   "source": [
    "summary.to_csv(\"result_summary.csv\", \n",
    "               mode=\"x\"\n",
    "              )"
   ]
  },
  {
   "cell_type": "code",
   "execution_count": null,
   "metadata": {},
   "outputs": [],
   "source": []
  }
 ],
 "metadata": {
  "kernelspec": {
   "display_name": "Python 3",
   "language": "python",
   "name": "python3"
  }
 },
 "nbformat": 4,
 "nbformat_minor": 2
}
