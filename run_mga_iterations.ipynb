{
 "cells": [
  {
   "cell_type": "markdown",
   "metadata": {},
   "source": [
    "# Apply Modelling to Generate Alternatives to a PyPSA-Sec Model Instance of Germany"
   ]
  },
  {
   "cell_type": "code",
   "execution_count": null,
   "metadata": {},
   "outputs": [],
   "source": [
    "import pypsa\n",
    "import pandas as pd\n",
    "idx = pd.IndexSlice\n",
    "import numpy as np\n",
    "import matplotlib.pyplot as plt\n",
    "import plotly.express as px\n",
    "import pyomo.environ as pe\n",
    "import logging\n",
    "logger = logging.getLogger()\n",
    "logger.setLevel(level=logging.INFO)\n",
    "from scripts.prepare_model import (make_options, \n",
    "                                   extra_functionality,\n",
    "                                   prepare_costs, \n",
    "                                   annuity)\n",
    "\n",
    "from scripts.prepare_mga import make_mga_weights\n",
    "\n",
    "\n",
    "\n",
    "pypsa.Network.lopf_prepare_solver = pypsa.opf.network_lopf_prepare_solver\n",
    "pypsa.Network.lopf_solve_wo_build = pypsa.opf.network_lopf_solve\n",
    "\n",
    "options = make_options()"
   ]
  },
  {
   "cell_type": "code",
   "execution_count": null,
   "metadata": {},
   "outputs": [],
   "source": [
    "#options"
   ]
  },
  {
   "cell_type": "markdown",
   "metadata": {},
   "source": [
    "# Export-import time series for the simplified representation of europe"
   ]
  },
  {
   "cell_type": "code",
   "execution_count": null,
   "metadata": {},
   "outputs": [],
   "source": [
    "export_import_load = pd.read_csv(\"electricity_import_export_target2050_weather2011.csv\", squeeze=True) * -1 # export - import"
   ]
  },
  {
   "cell_type": "markdown",
   "metadata": {},
   "source": [
    "# Heat pump cop data\n",
    "\n",
    "* https://github.com/oruhnau/when2heat/   \n",
    "* https://www.nature.com/articles/s41597-019-0199-y, https://doi.org/10.1038/s41597-019-0199-y\n",
    "* https://data.open-power-system-data.org/when2heat/2019-08-06"
   ]
  },
  {
   "cell_type": "code",
   "execution_count": null,
   "metadata": {},
   "outputs": [],
   "source": [
    "try:\n",
    "    when2heat = pd.read_csv(\"when2heat_DE_2011.csv\", index_col = \"utc_timestamp\", parse_dates=True)\n",
    "except FileNotFoundError:\n",
    "    print(\"create subset for cop time series\")\n",
    "    # https://github.com/oruhnau/when2heat/   \n",
    "    # https://www.nature.com/articles/s41597-019-0199-y\n",
    "    when2heat = pd.read_csv(\"../../1/6Data/Heat/when2heat_stacked.csv\", index_col = \"utc_timestamp\", parse_dates=True)\n",
    "    when2heat = when2heat.loc[when2heat[\"country\"]==\"DE\"].loc['2011-01-01 00:00:00':'2011-12-31 23:00:00']\n",
    "    when2heat.to_csv(\"when2heat_DE_2011.csv\")\n",
    "    \n",
    "def cop_DE(df, floor, radiator, water): \n",
    "    \"\"\"extract ASHP and GSHP cop. Actually it is the Seasonal Performance Factor (SPF)\"\"\"\n",
    "    \n",
    "    if floor+radiator+water!=1:\n",
    "        raise ValueError(\"floor+radiator+water must be 1\")\n",
    "    \n",
    "    rows = when2heat.attribute.isin([\"ASHP_floor\", \"ASHP_radiator\", \"ASHP_water\", \"GSHP_floor\", \"GSHP_radiator\", \"GSHP_water\"])\n",
    "\n",
    "    cop = when2heat.loc[rows].reset_index()\n",
    "    cop = cop.pivot(index='utc_timestamp', columns = 'attribute', values = 'data')\n",
    "\n",
    "    cop_agg = pd.DataFrame()\n",
    "    cop_agg[\"ASHP\"] = (cop[\"ASHP_floor\"].values * floor \n",
    "                        + cop[\"ASHP_radiator\"] * radiator \n",
    "                        + cop[\"ASHP_water\"] * water)\n",
    "    \n",
    "    cop_agg[\"GSHP\"] = (cop[\"GSHP_floor\"].values * floor \n",
    "                        + cop[\"GSHP_radiator\"] * radiator \n",
    "                        + cop[\"GSHP_water\"] * water)\n",
    "    # COP to Seasonal Performance Factor (SPF/ in German: JAZ), source:  Feldtest des Fraunhofer ISE\n",
    "    # NB: correct with basic amount instead of multiplication\n",
    "    spf_agg = cop_agg - cop_agg.sum() * (1-0.9)/cop_agg.shape[0]   \n",
    "    return spf_agg\n",
    "    \n",
    "cop_DE = cop_DE(df=when2heat, floor=0.8*0.50, radiator=0.8*0.50, water=0.2)\n",
    "\n",
    "# Günther et al. 20% water heating,  80% space heating: 85% with floor heating and 15% with radiators ()\n",
    "# floor=0.8*0.85, radiator=0.8*0.15, water=0.2\n",
    "\n",
    "del when2heat"
   ]
  },
  {
   "cell_type": "code",
   "execution_count": null,
   "metadata": {},
   "outputs": [],
   "source": [
    "cop_DE.mean()"
   ]
  },
  {
   "cell_type": "code",
   "execution_count": null,
   "metadata": {},
   "outputs": [],
   "source": [
    "es = pypsa.Network()\n",
    "\n",
    "es.import_from_hdf5(\"all_flex-central_0_DE_1h.h5\")"
   ]
  },
  {
   "cell_type": "code",
   "execution_count": null,
   "metadata": {},
   "outputs": [],
   "source": [
    "# fig = plt.figure(figsize=(16, 10))\n",
    "# fig.add_subplot(211)\n",
    "# es.links_t.efficiency[\"DE central heat pump\"].plot(ylim=(1.5, 4.5))\n",
    "# fig.add_subplot(212)\n",
    "# cop_DE[\"ASHP\"].plot(ylim=(1.5, 4.5))'"
   ]
  },
  {
   "cell_type": "code",
   "execution_count": null,
   "metadata": {},
   "outputs": [],
   "source": [
    "costs = prepare_costs(file_name = \"pypsa-eur-sec-30/data/costs/costs.csv\", number_years=1, usd_to_eur=1/1.2, costs_year=2030)"
   ]
  },
  {
   "cell_type": "markdown",
   "metadata": {},
   "source": [
    "# Add solar-rooftop and load shedding"
   ]
  },
  {
   "cell_type": "code",
   "execution_count": null,
   "metadata": {},
   "outputs": [],
   "source": [
    "es.add(\"Generator\",\n",
    "         \"DE solar-rooftop\",\n",
    "         bus=\"DE\",\n",
    "         p_nom_extendable=True,\n",
    "         carrier=\"solar\",\n",
    "         p_nom_max=es.generators.loc[\"DE solar\",\"p_nom_max\"],\n",
    "         capital_cost = costs.at[idx['solar-rooftop', 2030],'fixed'],\n",
    "         p_max_pu=es.generators_t[\"p_max_pu\"].loc[:, \"DE solar\"],\n",
    "         marginal_cost=costs.at[idx['solar', 2030],'VOM'])\n",
    "\n",
    "es.add(\"Generator\", \"DE load shedding\",\n",
    "          bus=\"DE\",\n",
    "          p_nom_extendable=True,\n",
    "          marginal_cost=1000.)\n",
    "\n",
    "# es.add(\"Link\", \"DE CCGT\", \n",
    "#       bus0=\"DE gas\", \n",
    "#       bus1=\"DE\")"
   ]
  },
  {
   "cell_type": "markdown",
   "metadata": {},
   "source": [
    "## Add electricity export-import time series"
   ]
  },
  {
   "cell_type": "code",
   "execution_count": null,
   "metadata": {},
   "outputs": [],
   "source": [
    "es.add(\"Load\", \"DE export-import\",\n",
    "       bus=\"DE\", \n",
    "       p_set=export_import_load[::options[\"step\"]].values)"
   ]
  },
  {
   "cell_type": "markdown",
   "metadata": {},
   "source": [
    "## Add industry process heat demand \n",
    "Assumptions for 2050 / zero carbon. Source: IEE.2019 \"“Entwicklung der Gebäudewärme und Rückkopplung mit dem Energiesystem in -95 % THG-Klimazielszenarien\"\n",
    "and https://ec.europa.eu/energy/sites/ener/files/documents/Report%20WP1.pdf"
   ]
  },
  {
   "cell_type": "code",
   "execution_count": null,
   "metadata": {},
   "outputs": [],
   "source": [
    "# 2050 / zero carbon assumptions\n",
    "industry = pd.Series()\n",
    "industry[\"heat_100\"] = 13   # central/urban heal sector\n",
    "industry[\"heat_100_500\"] = 56     # RH, Boiler, CHP\n",
    "industry[\"heat_500_el\"] = 145     # el. load\n",
    "industry[\"heat_500_h2\"] = 100     # H2 load\n",
    "industry[\"heat_500_ch4\"] = 170    # CH4 load, NB: this is pretty low\n",
    "industry *= 1e6"
   ]
  },
  {
   "cell_type": "markdown",
   "metadata": {},
   "source": [
    "### <100°C"
   ]
  },
  {
   "cell_type": "code",
   "execution_count": null,
   "metadata": {},
   "outputs": [],
   "source": [
    "industry_heat_100_t = np.array([industry[\"heat_100\"]/8760 ]*es.snapshots.shape[0])\n",
    "\n",
    "es.add(\"Load\", \"DE industry <100°C heat\",\n",
    "       bus=\"DE urban heat\",\n",
    "       p_set=industry_heat_100_t)"
   ]
  },
  {
   "cell_type": "markdown",
   "metadata": {},
   "source": [
    "### >100°C and <500°C"
   ]
  },
  {
   "cell_type": "code",
   "execution_count": null,
   "metadata": {},
   "outputs": [],
   "source": [
    "industry_heat_100_500_t = np.array([industry[\"heat_100_500\"]/8760]*es.snapshots.shape[0])\n",
    "\n",
    "es.add(\"Bus\", \"DE industry >100°C heat\",\n",
    "       carrier=\"heat\")\n",
    "\n",
    "es.add(\"Load\", \"DE industry >100°C heat\",\n",
    "       bus=\"DE industry >100°C heat\",\n",
    "       p_set=industry_heat_100_500_t)\n",
    "\n",
    "nodes = pd.Index([\"DE\"])\n",
    "\n",
    "es.madd(\"Link\",\n",
    "        nodes + \" industry resistive heater\",\n",
    "        bus0=nodes,\n",
    "        bus1=nodes + \" industry >100°C heat\",\n",
    "        p_nom_extendable=True,\n",
    "        capital_cost=costs.at[idx['central resistive heater',2030],'efficiency']*costs.at[idx['central resistive heater',2030],'fixed'],\n",
    "        efficiency=costs.at[idx['central resistive heater',2030],'efficiency'])\n",
    "\n",
    "es.madd(\"Link\",\n",
    "        nodes + \" industry gas boiler\",\n",
    "        bus0=nodes + \" gas\",\n",
    "        bus1=nodes + \" industry >100°C heat\",\n",
    "        p_nom_extendable=True,\n",
    "        capital_cost=costs.at[idx['central gas boiler',2030],'efficiency']*costs.at[idx['central gas boiler',2030],'fixed'],\n",
    "        efficiency=costs.at[idx['central gas boiler',2030],'efficiency'])\n",
    "\n",
    "chp_parameters = {\n",
    "    'eta_elec' : 0.468, #electrical efficiency with no heat output\n",
    "    'c_v' : 0.15, #loss of fuel for each addition of heat\n",
    "    'c_m' : 0.75, #backpressure ratio\n",
    "    'p_nom_ratio' : 1., #ratio of max heat output to max electrical output\n",
    "}\n",
    "\n",
    "es.madd(\"Link\",\n",
    "         nodes + \" industry CHP electric\",\n",
    "         bus0=nodes + \" gas\",\n",
    "         bus1=nodes,\n",
    "         p_nom_extendable=True,\n",
    "         capital_cost=costs.at[idx['central CHP',2030],'fixed']*chp_parameters['eta_elec'],\n",
    "         efficiency=chp_parameters['eta_elec'])\n",
    "\n",
    "es.madd(\"Link\",\n",
    "         nodes + \" industry CHP heat\",\n",
    "         bus0=nodes + \" gas\",\n",
    "         bus1=nodes + \" industry >100°C heat\",\n",
    "         p_nom_extendable=True,\n",
    "         efficiency=chp_parameters['eta_elec']/chp_parameters['c_v'])"
   ]
  },
  {
   "cell_type": "markdown",
   "metadata": {},
   "source": [
    "### heat >500°C. \n",
    "\n",
    "Exogenous consideration of h2 and methan demand for process heat >500°C. \n",
    "\n",
    "Source. K. Purr, J. Günther, H. Lehmann und P. Nuss, “Wege in eine ressourcenschonende Treibhausgasneutralität: Rescue Studie,” Dessau-Roßlau, 2019."
   ]
  },
  {
   "cell_type": "code",
   "execution_count": null,
   "metadata": {},
   "outputs": [],
   "source": [
    "# TODO: implement based on the study.\n",
    "if True:\n",
    "    es.add(\"Load\", \"DE industry PtH\",\n",
    "           bus=\"DE\",\n",
    "           p_set=np.array([industry[\"heat_500_el\"]/8760]*es.snapshots.shape[0]))\n",
    "    \n",
    "    es.add(\"Load\", \"DE industry H2\",\n",
    "           bus=\"DE H2\",\n",
    "           p_set=np.array([industry[\"heat_500_h2\"]/8760]*es.snapshots.shape[0]))\n",
    "\n",
    "    es.add(\"Load\", \"DE industry CH4\",\n",
    "           bus=\"DE gas\",\n",
    "           p_set=np.array([industry[\"heat_500_ch4\"]/8760]*es.snapshots.shape[0]))"
   ]
  },
  {
   "cell_type": "code",
   "execution_count": null,
   "metadata": {},
   "outputs": [],
   "source": []
  },
  {
   "cell_type": "code",
   "execution_count": null,
   "metadata": {},
   "outputs": [],
   "source": [
    "es.loads"
   ]
  },
  {
   "cell_type": "markdown",
   "metadata": {},
   "source": [
    "# Change Cost, Emissions, COP"
   ]
  },
  {
   "cell_type": "code",
   "execution_count": null,
   "metadata": {},
   "outputs": [],
   "source": [
    "def offwind_connection_costs(length_onshore = 20, length_offshore = 60):\n",
    "    \"\"\"\n",
    "    \n",
    "    calculates grid connection costs for offshore\n",
    "    \n",
    "    HVAC or HVDC overhead: 400 €/MW/km\n",
    "    \n",
    "    factor: 1.25 because it wont be a straight line\n",
    "    \n",
    "    offwind-ac-connection-underground: 1500 €/MW/km # NB: what about submarine?\n",
    "    \n",
    "    offwind-ac-station: 200 €/kW    \n",
    "    \n",
    "    onshore station: 80 €/kW\n",
    "    \n",
    "    inter-array cable: \n",
    "    \"\"\"\n",
    "    \n",
    "    return ((400*1.25*length_onshore+1500*1.25*length_offshore+200000.+80000)*1)*(annuity(40., 0.07)+0.02)"
   ]
  },
  {
   "cell_type": "code",
   "execution_count": null,
   "metadata": {},
   "outputs": [],
   "source": [
    "es.global_constraints.at[\"co2_limit\",\"constant\"] = options[\"co2_limit\"]\n",
    "\n",
    "es.carriers.at[\"gas\", \"co2_emissions\"] = 0. # we assume synthetic/renewable gas (import)\n",
    "\n",
    "# renewable gas import, source: ewi Energy Research & Scenarios gGmbH, “Dena-Leitstudie Integrierte Energiewende,” 2018\n",
    "# Jahr 2050: \"30 EUR/MWh für konventionelles Erdgas, 92 EUR/MWh für synthetisches Methan bzw. 101 EUR/MWh für synthetisches LNG,  sowie 36 EUR/MWh für konventionellen Diesel\n",
    "# vs. 121 EUR/MWh für synthetischen Diesel\"\n",
    "es.stores.at[\"DE gas Store\", \"marginal_cost\"] = 101.\n",
    "\n",
    "\n",
    "# only 150000 MW of low-cost utility-scale plants; NB: 50/50 for utility/rooftop\n",
    "es.generators.at[\"DE solar\", \"p_nom_max\"] = 300000. \n",
    "\n",
    "# relax p_nom_max for onshore wind\n",
    "if False: # dont do it.\n",
    "    es.generators.at[\"DE0 onwind\", \"p_nom_max\"] *= 1.1\n",
    "    es.generators.at[\"DE1 onwind\", \"p_nom_max\"] *= 1.1\n",
    "    es.generators.at[\"DE2 onwind\", \"p_nom_max\"] *= 1.1\n",
    "\n",
    "# power grid expansion costs\n",
    "\n",
    "## offwind\n",
    "es.generators.at[\"DE offwind\", \"capital_cost\"] = (costs.at[idx['offwind', 2030],'fixed'] \n",
    "                                                  +  offwind_connection_costs(length_onshore = 20, length_offshore = 35))\n",
    "\n",
    "## add 200€/kW grid connection costs to onwind costs, DEA\n",
    "c_on = costs.loc[idx['onwind', 2030],:]\n",
    "c_on_grid = 200*1e3 * (annuity(c_on[\"lifetime\"], c_on[\"discount rate\"]) + c_on[\"FOM\"]/100)\n",
    "\n",
    "es.generators.at[\"DE0 onwind\", \"capital_cost\"] = c_on[\"fixed\"] + c_on_grid\n",
    "es.generators.at[\"DE1 onwind\", \"capital_cost\"] = c_on[\"fixed\"] + c_on_grid\n",
    "es.generators.at[\"DE2 onwind\", \"capital_cost\"] = c_on[\"fixed\"] + c_on_grid\n",
    "\n",
    "c_pv_utility_grid = c_on_grid * 1.5\n",
    "c_pv = (costs.loc[idx['solar-utility', 2030],\"fixed\"] + c_pv_utility_grid + costs.loc[idx['solar-rooftop', 2030],\"fixed\"])/2\n",
    "\n",
    "# reduce heat demand for buildings. target year: 2050, moderate Sanierung. Source: IEE.2019, Entwicklung der Gebäudewärme und Rückkopplung mit dem Energiesystem in -95 % thg Klimazielszenarien\n",
    "\n",
    "es.loads_t.p_set[\"DE heat\"] *= 0.88\n",
    "es.loads_t.p_set[\"DE urban heat\"] *= 0.88\n",
    "\n",
    "use_when2heat = True\n",
    "if use_when2heat:\n",
    "    # change heat pumps cop according to when2heat data, https://doi.org/10.1038/s41597-019-0199-y\n",
    "\n",
    "    es.links_t.efficiency.loc[:, \"DE central heat pump\"] = cop_DE.loc[::8760/es.snapshots.shape[0], \"ASHP\"].values\n",
    "    es.links_t.efficiency.loc[:, \"DE ground heat pump\"] = cop_DE.loc[::8760/es.snapshots.shape[0], \"GSHP\"].values"
   ]
  },
  {
   "cell_type": "markdown",
   "metadata": {},
   "source": [
    "# Initial optimization run"
   ]
  },
  {
   "cell_type": "code",
   "execution_count": null,
   "metadata": {},
   "outputs": [],
   "source": [
    "es.consistency_check()"
   ]
  },
  {
   "cell_type": "code",
   "execution_count": null,
   "metadata": {},
   "outputs": [],
   "source": [
    "skip_pre=True\n",
    "\n",
    "es.lopf(solver_name=options['solver']['name'], solver_options=options['solver']['options'], skip_pre=skip_pre,\n",
    "          extra_functionality=extra_functionality)"
   ]
  },
  {
   "cell_type": "markdown",
   "metadata": {},
   "source": [
    "# Prepare MGA"
   ]
  },
  {
   "cell_type": "code",
   "execution_count": null,
   "metadata": {},
   "outputs": [],
   "source": [
    "mga_groups = {\n",
    "    \"generators\": [[\"DE0 onwind\", \"DE1 onwind\", \"DE2 onwind\"],\n",
    "             [\"DE offwind\"], \n",
    "             [\"DE solar\", \"DE solar-rooftop\"],\n",
    "             [\"DE solar thermal collector\", \"DE central solar thermal collector\"],\n",
    "            ],\n",
    "    \"links\": [[\"DE OCGT\"], \n",
    "              [\"DE H2 Electrolysis\"],\n",
    "              [\"DE H2 Fuel Cell\"],\n",
    "              [\"DE Sabatier\"],\n",
    "              [\"DE battery charger\"], \n",
    "              [\"DE central heat pump\"],\n",
    "              [\"DE ground heat pump\"],\n",
    "              [\"DE resistive heater\"],\n",
    "              [\"DE central resistive heater\", \"DE industry resistive heater\"],\n",
    "              [\"DE gas boiler\"],\n",
    "              [\"DE central gas boiler\", \"DE industry gas boiler\"],\n",
    "              [\"DE central CHP electric\", \"DE industry CHP electric\"]\n",
    "             ],\n",
    "    \"stores\": [[\"DE gas Store\"]]\n",
    "}"
   ]
  },
  {
   "cell_type": "code",
   "execution_count": null,
   "metadata": {},
   "outputs": [],
   "source": [
    "mga_weights = make_mga_weights(mga_groups=mga_groups)"
   ]
  },
  {
   "cell_type": "code",
   "execution_count": null,
   "metadata": {},
   "outputs": [],
   "source": [
    "mga_weights.tail()"
   ]
  },
  {
   "cell_type": "code",
   "execution_count": null,
   "metadata": {},
   "outputs": [],
   "source": [
    "es.apply_mga_structure(mga_groups, mga_weights)"
   ]
  },
  {
   "cell_type": "code",
   "execution_count": null,
   "metadata": {},
   "outputs": [],
   "source": [
    "# # Place cost optimal scenario at the end of the result summary df\n",
    "es.export_to_hdf5(path = \"results/results_complete_mga_iterations/iteration_opt.h5\")"
   ]
  },
  {
   "cell_type": "code",
   "execution_count": null,
   "metadata": {},
   "outputs": [],
   "source": [
    "hasattr(es.model, \"mga_function_expr\")"
   ]
  },
  {
   "cell_type": "markdown",
   "metadata": {},
   "source": [
    "# Start mga iterations"
   ]
  },
  {
   "cell_type": "code",
   "execution_count": null,
   "metadata": {},
   "outputs": [],
   "source": [
    "es.lopf_prepare_solver(solver_name=options['solver']['name'])\n"
   ]
  },
  {
   "cell_type": "markdown",
   "metadata": {},
   "source": [
    "### Warning: The next code block is CPU-intensive."
   ]
  },
  {
   "cell_type": "code",
   "execution_count": null,
   "metadata": {
    "scrolled": true
   },
   "outputs": [],
   "source": [
    "def solve_mga_iterations(mga_groups, mga_weights, options, \n",
    "                         slacks=[1.005, 1.01, 1.05], # slacks, e.g. [1.005, 1.01, 1.015, 1.02, 1.05, 1.1]\n",
    "                         # summary,\n",
    "                         # scenario_design\n",
    "                        ):\n",
    "    if not hasattr(es.model, \"mga_function_expr\"):\n",
    "        raise TypeError(\"MGA structure must have been applied #.apply_mga_structure()\")\n",
    "    failed_iterations_i = [] # Save the iterations for which the solver can not find a solution. List should be empty.\n",
    "    \n",
    "    for slack in slacks: # slacks, e.g. [1.005, 1.01, 1.015, 1.02, 1.05, 1.1]\n",
    "        for i, row in mga_weights.iterrows():\n",
    "\n",
    "            es.model.slack = slack \n",
    "            \n",
    "            for index, value in row.items():\n",
    "                es.model.mga_weight[index] = value\n",
    "\n",
    "            if options[\"solver\"][\"name\"]==\"gurobi_persistent\":\n",
    "                es.opt.set_objective(es.model.objective) # Update the objective of the persistent solver instance\n",
    "\n",
    "                es.opt.remove_constraint(es.model.cost_budget) # Update the cost budget of the persistent solver instance\n",
    "                es.opt.add_constraint(es.model.cost_budget) # Update the cost budget of the persistent solver instance\n",
    "\n",
    "            try:\n",
    "                es.lopf_solve_wo_build(solver_options=options['solver']['options'])\n",
    "\n",
    "                es.export_to_hdf5(path = \"results/results_complete_mga_iterations/iteration_\"+\"s\"+str(s)+\"w\"+str(i)+\".h5\")\n",
    "\n",
    "            except ValueError:\n",
    "                failed_iterations_i.append(i)\n",
    "                \n",
    "                \n",
    "        def save_scenario_design(mga_weights, slacks):\n",
    "            scenario_design = pd.DataFrame()\n",
    "            for s in slacks:\n",
    "                scenario_design = pd.concat([scenario_design, mga_weights], ignore_index=True)\n",
    "            scenario_design.insert(0, \"slack\", np.array([s for s in slacks for i in mga_weights.index])) \n",
    "            scenario_design.index = [\"s\"+str(s)+\"w\"+str(i) for s in slacks for i, row in mga_weights.iterrows()]\n",
    "            scenario_design.to_csv(\"scenario_design.csv\")\n",
    "\n",
    "        save_scenario_design(mga_weights=mga_weights, slacks=slacks)\n",
    "        \n",
    "        return failed_iterations_i\n",
    "\n",
    "failed_iterations_i = solve_mga_iterations(mga_groups, mga_weights, options=options)"
   ]
  },
  {
   "cell_type": "code",
   "execution_count": null,
   "metadata": {},
   "outputs": [],
   "source": [
    "print(f\"failed_iterations_i: {failed_iterations_i}\")"
   ]
  },
  {
   "cell_type": "code",
   "execution_count": null,
   "metadata": {},
   "outputs": [],
   "source": []
  }
 ],
 "metadata": {
  "kernelspec": {
   "display_name": "Python [conda env:pypsa-0.12]",
   "language": "python",
   "name": "conda-env-pypsa-0.12-py"
  },
  "language_info": {
   "codemirror_mode": {
    "name": "ipython",
    "version": 3
   },
   "file_extension": ".py",
   "mimetype": "text/x-python",
   "name": "python",
   "nbconvert_exporter": "python",
   "pygments_lexer": "ipython3",
   "version": "3.6.7"
  }
 },
 "nbformat": 4,
 "nbformat_minor": 2
}
