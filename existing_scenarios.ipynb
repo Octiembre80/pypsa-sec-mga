{
 "cells": [
  {
   "cell_type": "code",
   "execution_count": null,
   "metadata": {},
   "outputs": [],
   "source": [
    "import pandas as pd\n",
    "import plotly.offline as py\n",
    "import plotly.graph_objs as go\n",
    "import cufflinks as cf\n",
    "import plotly.io as pio\n",
    "import plotly.express as px\n",
    "\n",
    "from make_plots import colors\n",
    "\n",
    "pio.templates.default = \"plotly\"\n",
    "cf.set_config_file(theme='white')\n"
   ]
  },
  {
   "cell_type": "code",
   "execution_count": null,
   "metadata": {},
   "outputs": [],
   "source": [
    "scenarios = pd.read_excel(\"existing_scenarios.xlsx\", index_col=[0])"
   ]
  },
  {
   "cell_type": "code",
   "execution_count": null,
   "metadata": {},
   "outputs": [],
   "source": [
    "scenarios.head()"
   ]
  },
  {
   "cell_type": "code",
   "execution_count": null,
   "metadata": {},
   "outputs": [],
   "source": [
    "scenarios = scenarios.iloc[:10, :3]"
   ]
  },
  {
   "cell_type": "code",
   "execution_count": null,
   "metadata": {},
   "outputs": [],
   "source": [
    "scenarios"
   ]
  },
  {
   "cell_type": "code",
   "execution_count": null,
   "metadata": {},
   "outputs": [],
   "source": [
    "scenarios_renamed = scenarios.rename(index={\n",
    "    \"Öko Institute (2015), 95KS\": \"[8], 95KS\",\n",
    "    \"Dena Leitstudie (2018), EL95\": \"[10], EL95\", \n",
    "    \"Dena Leitstudie (2018), TM95\": \"[10], TM95\", \n",
    "    \"Brown, T. et al. (2018), All flex central\": \"[6], All-Flex-Central\",\n",
    "    \"Brown, T. et al. (2018), Central\": \"[6], Central\", \n",
    "    \"Prognos (2018), 95% Path\": \"[11], 95% path\", \n",
    "    \"Palzer, A; Henning, H.-M. (2014), REMax\": \"[7], REMax\", \n",
    "    \"FhG ISE, Acatech (2017), 90%_open\": \"[9], 90% open\", \n",
    "    \"FhG IEE (2018), Basis\": \"[24], Basis\",\n",
    "    \"FhG IEE (2019), Basis\": \"[12], Basis\"\n",
    "})\n",
    "scenarios_renamed"
   ]
  },
  {
   "cell_type": "code",
   "execution_count": null,
   "metadata": {},
   "outputs": [],
   "source": [
    "scenarios = scenarios_renamed"
   ]
  },
  {
   "cell_type": "code",
   "execution_count": null,
   "metadata": {
    "scrolled": false
   },
   "outputs": [],
   "source": [
    "fig = scenarios.iplot(kind=\"bar\", barmode='stack', \n",
    "                      margin={\"l\": 0, \"t\":40, \"b\": 0, \"r\": 0}, \n",
    "                      asFigure=True, title=r\"$\\text{Installed capacity in DE in GW}_{\\text{el}}$\", colors=colors)\n",
    "fig.layout.width = 600\n",
    "fig.layout.height = 450\n",
    "fig.layout.font = dict(family=\"Arial\", size=14)\n",
    "\n",
    "fig.write_image(\"literature_scenario_comparison.png\", scale=3)\n",
    "py.iplot(fig)\n"
   ]
  },
  {
   "cell_type": "code",
   "execution_count": null,
   "metadata": {},
   "outputs": [],
   "source": [
    "scenarios.sum(1)"
   ]
  },
  {
   "cell_type": "code",
   "execution_count": null,
   "metadata": {},
   "outputs": [],
   "source": [
    "scenarios.sum(axis=1)"
   ]
  }
 ],
 "metadata": {
  "kernelspec": {
   "display_name": "Python 3",
   "language": "python",
   "name": "python3"
  },
  "language_info": {
   "codemirror_mode": {
    "name": "ipython",
    "version": 3
   },
   "file_extension": ".py",
   "mimetype": "text/x-python",
   "name": "python",
   "nbconvert_exporter": "python",
   "pygments_lexer": "ipython3",
   "version": "3.6.6"
  }
 },
 "nbformat": 4,
 "nbformat_minor": 2
}
